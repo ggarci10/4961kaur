{
  "cells": [
    {
      "cell_type": "markdown",
      "metadata": {
        "id": "view-in-github",
        "colab_type": "text"
      },
      "source": [
        "<a href=\"https://colab.research.google.com/github/ggarci10/4961kaur/blob/main/Senior_Design.ipynb\" target=\"_parent\"><img src=\"https://colab.research.google.com/assets/colab-badge.svg\" alt=\"Open In Colab\"/></a>"
      ]
    },
    {
      "cell_type": "code",
      "execution_count": 21,
      "metadata": {
        "id": "279cbe18"
      },
      "outputs": [],
      "source": [
        "from sklearn.neighbors import KNeighborsClassifier\n",
        "from sklearn.model_selection import train_test_split\n",
        "from sklearn.metrics import accuracy_score\n",
        "from sklearn.tree import DecisionTreeClassifier\n",
        "from sklearn.linear_model import LogisticRegression\n",
        "from sklearn.preprocessing import OneHotEncoder\n",
        "from sklearn.model_selection import cross_val_score\n"
      ],
      "id": "279cbe18"
    },
    {
      "cell_type": "code",
      "execution_count": null,
      "metadata": {
        "id": "7aa7c606"
      },
      "outputs": [],
      "source": [
        "import pandas as pd"
      ],
      "id": "7aa7c606"
    },
    {
      "cell_type": "code",
      "execution_count": null,
      "metadata": {
        "id": "c2b10da4"
      },
      "outputs": [],
      "source": [
        "RDR = pd.read_csv(\"https://raw.githubusercontent.com/ggarci10/4961kaur/main/RawData-Regina-June-2023.csv\")"
      ],
      "id": "c2b10da4"
    },
    {
      "cell_type": "code",
      "execution_count": null,
      "metadata": {
        "colab": {
          "base_uri": "https://localhost:8080/",
          "height": 206
        },
        "id": "fd5b1768",
        "outputId": "44d58fb9-8b8e-4d91-baa9-ba474db5c142"
      },
      "outputs": [
        {
          "data": {
            "text/html": [
              "\n",
              "  <div id=\"df-8907a19b-5cd0-418f-b6e2-f6636f7e102c\" class=\"colab-df-container\">\n",
              "    <div>\n",
              "<style scoped>\n",
              "    .dataframe tbody tr th:only-of-type {\n",
              "        vertical-align: middle;\n",
              "    }\n",
              "\n",
              "    .dataframe tbody tr th {\n",
              "        vertical-align: top;\n",
              "    }\n",
              "\n",
              "    .dataframe thead th {\n",
              "        text-align: right;\n",
              "    }\n",
              "</style>\n",
              "<table border=\"1\" class=\"dataframe\">\n",
              "  <thead>\n",
              "    <tr style=\"text-align: right;\">\n",
              "      <th></th>\n",
              "      <th>id</th>\n",
              "      <th>meterNumber</th>\n",
              "      <th>gw</th>\n",
              "      <th>flow</th>\n",
              "      <th>tf</th>\n",
              "      <th>fr</th>\n",
              "      <th>fim</th>\n",
              "      <th>meterLocalTime</th>\n",
              "      <th>createdDate</th>\n",
              "      <th>u</th>\n",
              "      <th>totalflowinft3</th>\n",
              "      <th>flowinft3</th>\n",
              "      <th>flowrateinft3</th>\n",
              "      <th>isDisplay</th>\n",
              "      <th>previousflow</th>\n",
              "      <th>anomaly</th>\n",
              "      <th>CustomerId</th>\n",
              "    </tr>\n",
              "  </thead>\n",
              "  <tbody>\n",
              "    <tr>\n",
              "      <th>0</th>\n",
              "      <td>72720</td>\n",
              "      <td>19240566</td>\n",
              "      <td>b827eb5e5925</td>\n",
              "      <td>0.000000</td>\n",
              "      <td>89399.500000</td>\n",
              "      <td>0.043590</td>\n",
              "      <td>NaN</td>\n",
              "      <td>2023-06-01 00:08:33.000</td>\n",
              "      <td>2023-06-01 04:08:33.000</td>\n",
              "      <td>gal</td>\n",
              "      <td>0.0</td>\n",
              "      <td>0.0</td>\n",
              "      <td>0.0</td>\n",
              "      <td>True</td>\n",
              "      <td>89399.500000</td>\n",
              "      <td>False</td>\n",
              "      <td>10849</td>\n",
              "    </tr>\n",
              "    <tr>\n",
              "      <th>1</th>\n",
              "      <td>72721</td>\n",
              "      <td>19240566</td>\n",
              "      <td>b827eb5e5925</td>\n",
              "      <td>0.000000</td>\n",
              "      <td>89399.500000</td>\n",
              "      <td>0.000000</td>\n",
              "      <td>NaN</td>\n",
              "      <td>2023-06-01 00:09:16.000</td>\n",
              "      <td>2023-06-01 04:09:16.000</td>\n",
              "      <td>gal</td>\n",
              "      <td>0.0</td>\n",
              "      <td>0.0</td>\n",
              "      <td>0.0</td>\n",
              "      <td>True</td>\n",
              "      <td>89399.500000</td>\n",
              "      <td>False</td>\n",
              "      <td>10849</td>\n",
              "    </tr>\n",
              "    <tr>\n",
              "      <th>2</th>\n",
              "      <td>72722</td>\n",
              "      <td>19240566</td>\n",
              "      <td>b827eb5e5925</td>\n",
              "      <td>0.265625</td>\n",
              "      <td>89399.765625</td>\n",
              "      <td>0.000000</td>\n",
              "      <td>NaN</td>\n",
              "      <td>2023-06-01 03:24:03.000</td>\n",
              "      <td>2023-06-01 07:24:03.000</td>\n",
              "      <td>gal</td>\n",
              "      <td>0.0</td>\n",
              "      <td>0.0</td>\n",
              "      <td>0.0</td>\n",
              "      <td>False</td>\n",
              "      <td>89399.500000</td>\n",
              "      <td>False</td>\n",
              "      <td>10849</td>\n",
              "    </tr>\n",
              "    <tr>\n",
              "      <th>3</th>\n",
              "      <td>72723</td>\n",
              "      <td>19240566</td>\n",
              "      <td>b827eb5e5925</td>\n",
              "      <td>1.851562</td>\n",
              "      <td>89401.617188</td>\n",
              "      <td>0.062082</td>\n",
              "      <td>NaN</td>\n",
              "      <td>2023-06-01 08:04:32.000</td>\n",
              "      <td>2023-06-01 12:04:32.000</td>\n",
              "      <td>gal</td>\n",
              "      <td>0.0</td>\n",
              "      <td>0.0</td>\n",
              "      <td>0.0</td>\n",
              "      <td>False</td>\n",
              "      <td>89399.765625</td>\n",
              "      <td>False</td>\n",
              "      <td>10849</td>\n",
              "    </tr>\n",
              "    <tr>\n",
              "      <th>4</th>\n",
              "      <td>72724</td>\n",
              "      <td>19240566</td>\n",
              "      <td>b827eb5e5925</td>\n",
              "      <td>0.000000</td>\n",
              "      <td>89401.617188</td>\n",
              "      <td>0.058560</td>\n",
              "      <td>NaN</td>\n",
              "      <td>2023-06-01 08:04:44.000</td>\n",
              "      <td>2023-06-01 12:04:44.000</td>\n",
              "      <td>gal</td>\n",
              "      <td>0.0</td>\n",
              "      <td>0.0</td>\n",
              "      <td>0.0</td>\n",
              "      <td>True</td>\n",
              "      <td>89401.617188</td>\n",
              "      <td>False</td>\n",
              "      <td>10849</td>\n",
              "    </tr>\n",
              "  </tbody>\n",
              "</table>\n",
              "</div>\n",
              "    <div class=\"colab-df-buttons\">\n",
              "\n",
              "  <div class=\"colab-df-container\">\n",
              "    <button class=\"colab-df-convert\" onclick=\"convertToInteractive('df-8907a19b-5cd0-418f-b6e2-f6636f7e102c')\"\n",
              "            title=\"Convert this dataframe to an interactive table.\"\n",
              "            style=\"display:none;\">\n",
              "\n",
              "  <svg xmlns=\"http://www.w3.org/2000/svg\" height=\"24px\" viewBox=\"0 -960 960 960\">\n",
              "    <path d=\"M120-120v-720h720v720H120Zm60-500h600v-160H180v160Zm220 220h160v-160H400v160Zm0 220h160v-160H400v160ZM180-400h160v-160H180v160Zm440 0h160v-160H620v160ZM180-180h160v-160H180v160Zm440 0h160v-160H620v160Z\"/>\n",
              "  </svg>\n",
              "    </button>\n",
              "\n",
              "  <style>\n",
              "    .colab-df-container {\n",
              "      display:flex;\n",
              "      gap: 12px;\n",
              "    }\n",
              "\n",
              "    .colab-df-convert {\n",
              "      background-color: #E8F0FE;\n",
              "      border: none;\n",
              "      border-radius: 50%;\n",
              "      cursor: pointer;\n",
              "      display: none;\n",
              "      fill: #1967D2;\n",
              "      height: 32px;\n",
              "      padding: 0 0 0 0;\n",
              "      width: 32px;\n",
              "    }\n",
              "\n",
              "    .colab-df-convert:hover {\n",
              "      background-color: #E2EBFA;\n",
              "      box-shadow: 0px 1px 2px rgba(60, 64, 67, 0.3), 0px 1px 3px 1px rgba(60, 64, 67, 0.15);\n",
              "      fill: #174EA6;\n",
              "    }\n",
              "\n",
              "    .colab-df-buttons div {\n",
              "      margin-bottom: 4px;\n",
              "    }\n",
              "\n",
              "    [theme=dark] .colab-df-convert {\n",
              "      background-color: #3B4455;\n",
              "      fill: #D2E3FC;\n",
              "    }\n",
              "\n",
              "    [theme=dark] .colab-df-convert:hover {\n",
              "      background-color: #434B5C;\n",
              "      box-shadow: 0px 1px 3px 1px rgba(0, 0, 0, 0.15);\n",
              "      filter: drop-shadow(0px 1px 2px rgba(0, 0, 0, 0.3));\n",
              "      fill: #FFFFFF;\n",
              "    }\n",
              "  </style>\n",
              "\n",
              "    <script>\n",
              "      const buttonEl =\n",
              "        document.querySelector('#df-8907a19b-5cd0-418f-b6e2-f6636f7e102c button.colab-df-convert');\n",
              "      buttonEl.style.display =\n",
              "        google.colab.kernel.accessAllowed ? 'block' : 'none';\n",
              "\n",
              "      async function convertToInteractive(key) {\n",
              "        const element = document.querySelector('#df-8907a19b-5cd0-418f-b6e2-f6636f7e102c');\n",
              "        const dataTable =\n",
              "          await google.colab.kernel.invokeFunction('convertToInteractive',\n",
              "                                                    [key], {});\n",
              "        if (!dataTable) return;\n",
              "\n",
              "        const docLinkHtml = 'Like what you see? Visit the ' +\n",
              "          '<a target=\"_blank\" href=https://colab.research.google.com/notebooks/data_table.ipynb>data table notebook</a>'\n",
              "          + ' to learn more about interactive tables.';\n",
              "        element.innerHTML = '';\n",
              "        dataTable['output_type'] = 'display_data';\n",
              "        await google.colab.output.renderOutput(dataTable, element);\n",
              "        const docLink = document.createElement('div');\n",
              "        docLink.innerHTML = docLinkHtml;\n",
              "        element.appendChild(docLink);\n",
              "      }\n",
              "    </script>\n",
              "  </div>\n",
              "\n",
              "\n",
              "<div id=\"df-e238828e-d553-473d-a9d1-7eb73f96f47d\">\n",
              "  <button class=\"colab-df-quickchart\" onclick=\"quickchart('df-e238828e-d553-473d-a9d1-7eb73f96f47d')\"\n",
              "            title=\"Suggest charts\"\n",
              "            style=\"display:none;\">\n",
              "\n",
              "<svg xmlns=\"http://www.w3.org/2000/svg\" height=\"24px\"viewBox=\"0 0 24 24\"\n",
              "     width=\"24px\">\n",
              "    <g>\n",
              "        <path d=\"M19 3H5c-1.1 0-2 .9-2 2v14c0 1.1.9 2 2 2h14c1.1 0 2-.9 2-2V5c0-1.1-.9-2-2-2zM9 17H7v-7h2v7zm4 0h-2V7h2v10zm4 0h-2v-4h2v4z\"/>\n",
              "    </g>\n",
              "</svg>\n",
              "  </button>\n",
              "\n",
              "<style>\n",
              "  .colab-df-quickchart {\n",
              "      --bg-color: #E8F0FE;\n",
              "      --fill-color: #1967D2;\n",
              "      --hover-bg-color: #E2EBFA;\n",
              "      --hover-fill-color: #174EA6;\n",
              "      --disabled-fill-color: #AAA;\n",
              "      --disabled-bg-color: #DDD;\n",
              "  }\n",
              "\n",
              "  [theme=dark] .colab-df-quickchart {\n",
              "      --bg-color: #3B4455;\n",
              "      --fill-color: #D2E3FC;\n",
              "      --hover-bg-color: #434B5C;\n",
              "      --hover-fill-color: #FFFFFF;\n",
              "      --disabled-bg-color: #3B4455;\n",
              "      --disabled-fill-color: #666;\n",
              "  }\n",
              "\n",
              "  .colab-df-quickchart {\n",
              "    background-color: var(--bg-color);\n",
              "    border: none;\n",
              "    border-radius: 50%;\n",
              "    cursor: pointer;\n",
              "    display: none;\n",
              "    fill: var(--fill-color);\n",
              "    height: 32px;\n",
              "    padding: 0;\n",
              "    width: 32px;\n",
              "  }\n",
              "\n",
              "  .colab-df-quickchart:hover {\n",
              "    background-color: var(--hover-bg-color);\n",
              "    box-shadow: 0 1px 2px rgba(60, 64, 67, 0.3), 0 1px 3px 1px rgba(60, 64, 67, 0.15);\n",
              "    fill: var(--button-hover-fill-color);\n",
              "  }\n",
              "\n",
              "  .colab-df-quickchart-complete:disabled,\n",
              "  .colab-df-quickchart-complete:disabled:hover {\n",
              "    background-color: var(--disabled-bg-color);\n",
              "    fill: var(--disabled-fill-color);\n",
              "    box-shadow: none;\n",
              "  }\n",
              "\n",
              "  .colab-df-spinner {\n",
              "    border: 2px solid var(--fill-color);\n",
              "    border-color: transparent;\n",
              "    border-bottom-color: var(--fill-color);\n",
              "    animation:\n",
              "      spin 1s steps(1) infinite;\n",
              "  }\n",
              "\n",
              "  @keyframes spin {\n",
              "    0% {\n",
              "      border-color: transparent;\n",
              "      border-bottom-color: var(--fill-color);\n",
              "      border-left-color: var(--fill-color);\n",
              "    }\n",
              "    20% {\n",
              "      border-color: transparent;\n",
              "      border-left-color: var(--fill-color);\n",
              "      border-top-color: var(--fill-color);\n",
              "    }\n",
              "    30% {\n",
              "      border-color: transparent;\n",
              "      border-left-color: var(--fill-color);\n",
              "      border-top-color: var(--fill-color);\n",
              "      border-right-color: var(--fill-color);\n",
              "    }\n",
              "    40% {\n",
              "      border-color: transparent;\n",
              "      border-right-color: var(--fill-color);\n",
              "      border-top-color: var(--fill-color);\n",
              "    }\n",
              "    60% {\n",
              "      border-color: transparent;\n",
              "      border-right-color: var(--fill-color);\n",
              "    }\n",
              "    80% {\n",
              "      border-color: transparent;\n",
              "      border-right-color: var(--fill-color);\n",
              "      border-bottom-color: var(--fill-color);\n",
              "    }\n",
              "    90% {\n",
              "      border-color: transparent;\n",
              "      border-bottom-color: var(--fill-color);\n",
              "    }\n",
              "  }\n",
              "</style>\n",
              "\n",
              "  <script>\n",
              "    async function quickchart(key) {\n",
              "      const quickchartButtonEl =\n",
              "        document.querySelector('#' + key + ' button');\n",
              "      quickchartButtonEl.disabled = true;  // To prevent multiple clicks.\n",
              "      quickchartButtonEl.classList.add('colab-df-spinner');\n",
              "      try {\n",
              "        const charts = await google.colab.kernel.invokeFunction(\n",
              "            'suggestCharts', [key], {});\n",
              "      } catch (error) {\n",
              "        console.error('Error during call to suggestCharts:', error);\n",
              "      }\n",
              "      quickchartButtonEl.classList.remove('colab-df-spinner');\n",
              "      quickchartButtonEl.classList.add('colab-df-quickchart-complete');\n",
              "    }\n",
              "    (() => {\n",
              "      let quickchartButtonEl =\n",
              "        document.querySelector('#df-e238828e-d553-473d-a9d1-7eb73f96f47d button');\n",
              "      quickchartButtonEl.style.display =\n",
              "        google.colab.kernel.accessAllowed ? 'block' : 'none';\n",
              "    })();\n",
              "  </script>\n",
              "</div>\n",
              "    </div>\n",
              "  </div>\n"
            ],
            "text/plain": [
              "      id  meterNumber            gw      flow            tf        fr  fim  \\\n",
              "0  72720     19240566  b827eb5e5925  0.000000  89399.500000  0.043590  NaN   \n",
              "1  72721     19240566  b827eb5e5925  0.000000  89399.500000  0.000000  NaN   \n",
              "2  72722     19240566  b827eb5e5925  0.265625  89399.765625  0.000000  NaN   \n",
              "3  72723     19240566  b827eb5e5925  1.851562  89401.617188  0.062082  NaN   \n",
              "4  72724     19240566  b827eb5e5925  0.000000  89401.617188  0.058560  NaN   \n",
              "\n",
              "            meterLocalTime              createdDate    u  totalflowinft3  \\\n",
              "0  2023-06-01 00:08:33.000  2023-06-01 04:08:33.000  gal             0.0   \n",
              "1  2023-06-01 00:09:16.000  2023-06-01 04:09:16.000  gal             0.0   \n",
              "2  2023-06-01 03:24:03.000  2023-06-01 07:24:03.000  gal             0.0   \n",
              "3  2023-06-01 08:04:32.000  2023-06-01 12:04:32.000  gal             0.0   \n",
              "4  2023-06-01 08:04:44.000  2023-06-01 12:04:44.000  gal             0.0   \n",
              "\n",
              "   flowinft3  flowrateinft3  isDisplay  previousflow  anomaly  CustomerId  \n",
              "0        0.0            0.0       True  89399.500000    False       10849  \n",
              "1        0.0            0.0       True  89399.500000    False       10849  \n",
              "2        0.0            0.0      False  89399.500000    False       10849  \n",
              "3        0.0            0.0      False  89399.765625    False       10849  \n",
              "4        0.0            0.0       True  89401.617188    False       10849  "
            ]
          },
          "execution_count": 5,
          "metadata": {},
          "output_type": "execute_result"
        }
      ],
      "source": [
        "RDR.head()"
      ],
      "id": "fd5b1768"
    },
    {
      "cell_type": "code",
      "execution_count": null,
      "metadata": {
        "id": "pYTcgYszaAu8"
      },
      "outputs": [],
      "source": [
        "#\n",
        "\n",
        "\n",
        "\n"
      ],
      "id": "pYTcgYszaAu8"
    },
    {
      "cell_type": "code",
      "execution_count": null,
      "metadata": {
        "id": "edZwqcvLZ4j6"
      },
      "outputs": [],
      "source": [],
      "id": "edZwqcvLZ4j6"
    },
    {
      "cell_type": "code",
      "execution_count": null,
      "metadata": {
        "id": "a26839bb"
      },
      "outputs": [],
      "source": [
        "#DA = pd.read_csv(\"https://raw.githubusercontent.com/ggarci10/4961kaur/main/ReginaLeakNotificationDataAllYear2022-23.csv?token=GHSAT0AAAAAACJ45HEHYZRDGGC6RO2IY4OUZKJPJMQ\")"
      ],
      "id": "a26839bb"
    },
    {
      "cell_type": "code",
      "execution_count": null,
      "metadata": {
        "id": "0b81b012"
      },
      "outputs": [],
      "source": [
        "#print(DA)"
      ],
      "id": "0b81b012"
    },
    {
      "cell_type": "code",
      "execution_count": null,
      "metadata": {
        "id": "2dee483a"
      },
      "outputs": [],
      "source": [
        "#WCS = pd.read_csv(\"https://raw.githubusercontent.com/ggarci10/4961kaur/main/WaterClassifySummary.csv?token=GHSAT0AAAAAACJ45HEHKFQRSBOP7HXUN5LIZKJPG4Q\")"
      ],
      "id": "2dee483a"
    },
    {
      "cell_type": "code",
      "execution_count": null,
      "metadata": {
        "id": "9e366cef"
      },
      "outputs": [],
      "source": [
        "#print(WCS)"
      ],
      "id": "9e366cef"
    },
    {
      "cell_type": "code",
      "execution_count": null,
      "metadata": {
        "id": "ad7b9473"
      },
      "outputs": [],
      "source": [
        "#WCDF = pd.read_csv(\"https://raw.githubusercontent.com/ggarci10/4961kaur/main/WatreClassifyDataFrame.csv?token=GHSAT0AAAAAACJ45HEGYFZJMGODJBJWVNBQZKJPH3A\")"
      ],
      "id": "ad7b9473"
    },
    {
      "cell_type": "code",
      "execution_count": null,
      "metadata": {
        "id": "a8d975a7"
      },
      "outputs": [],
      "source": [
        "#print(WCDF)"
      ],
      "id": "a8d975a7"
    },
    {
      "cell_type": "markdown",
      "metadata": {
        "id": "95f84e17"
      },
      "source": [
        "**dummy file for testing**"
      ],
      "id": "95f84e17"
    },
    {
      "cell_type": "code",
      "execution_count": null,
      "metadata": {
        "id": "75b43b14"
      },
      "outputs": [],
      "source": [
        "df = pd.read_csv(\"https://github.com/mpourhoma/CS4661/raw/master/Credit.csv\")"
      ],
      "id": "75b43b14"
    },
    {
      "cell_type": "code",
      "execution_count": null,
      "metadata": {
        "colab": {
          "base_uri": "https://localhost:8080/"
        },
        "id": "3b80ae26",
        "outputId": "7a260233-ac46-4c50-a6be-651e4e234a5d"
      },
      "outputs": [
        {
          "name": "stdout",
          "output_type": "stream",
          "text": [
            "      Income  Limit  Rating  Cards  Age  Education  Married  Balance\n",
            "0     14.891   3606     283      2   34         11        1      333\n",
            "1    106.025   6645     483      3   82         15        1      903\n",
            "2    104.593   7075     514      4   71         11        0      580\n",
            "3    148.924   9504     681      3   36         11        0      964\n",
            "4     55.882   4897     357      2   68         16        1      331\n",
            "..       ...    ...     ...    ...  ...        ...      ...      ...\n",
            "395   12.096   4100     307      3   32         13        1      560\n",
            "396   13.364   3838     296      5   65         17        0      480\n",
            "397   57.872   4171     321      5   67         12        1      138\n",
            "398   37.728   2525     192      1   44         13        1        0\n",
            "399   18.701   5524     415      5   64          7        0      966\n",
            "\n",
            "[400 rows x 8 columns]\n"
          ]
        }
      ],
      "source": [
        "print(df)"
      ],
      "id": "3b80ae26"
    },
    {
      "cell_type": "markdown",
      "metadata": {
        "id": "f5440b7e"
      },
      "source": [
        "# Feature importance TESTER"
      ],
      "id": "f5440b7e"
    },
    {
      "cell_type": "code",
      "execution_count": null,
      "metadata": {
        "colab": {
          "base_uri": "https://localhost:8080/"
        },
        "id": "46276616",
        "outputId": "a048a329-8601-4235-b6d7-7d37b76acd41"
      },
      "outputs": [
        {
          "name": "stdout",
          "output_type": "stream",
          "text": [
            "-497.0869076583074\n",
            "[ -7.5197188    0.15640406   1.6355104   18.19349659  -1.00062374\n",
            "   3.73501837 -20.17447952]\n",
            "\n",
            "[ 316.89813114  677.5093907   489.03669272  -49.82989971  706.42913216\n",
            "  864.96954115  897.65752581  108.20297732 -213.73474279  834.94198677\n",
            "   11.05109139 -227.34447869  472.01450822    4.54554458 -228.17349827\n",
            "  956.21537845  896.91570524  821.97824267   18.37144232  857.31517013\n",
            " 1028.30326279  699.22168497 1176.9426756   666.28578465  643.94064891\n",
            "  690.63628696  589.35273903  -29.37237394  575.15444917  406.78468032\n",
            "  845.81453327  828.30862904   82.2376206   953.40592514 -184.74828227\n",
            "  525.84335889 1045.19205022  535.04104472  107.26753118 -172.8968111\n",
            "  497.84037664 1155.35533939  429.08674601  403.49872552  143.72087313\n",
            "  764.78737012  431.24114308 1304.79656588  475.00132057   95.75404622\n",
            " -215.69000296    5.62900657  313.88797405  859.9328932   792.27147016\n",
            " 1029.90210771 1500.40180297 1078.48617624  713.37981473 1072.97948262\n",
            "  -64.12187718  488.60063387   92.3601712   440.414465    277.13284667\n",
            " 1075.41508762  258.10181743  773.89657462  278.12447916  409.51029492\n",
            "  335.56674013  989.87781589  978.31940615 1042.6230052   915.82319179\n",
            "  150.95645254  516.7089988   733.47654088   74.84330655  556.47429962\n",
            " 1096.60831626  359.12494251  204.54562103  407.76115868  113.50656023\n",
            "  958.07237887  934.59051997    2.98452112 1627.80317193  636.31395153\n",
            "  688.17824441  711.80910955  293.66354104 -219.28997401  -91.76701391\n",
            " -149.31642723]\n"
          ]
        }
      ],
      "source": [
        "# Import necessary libraries\n",
        "import pandas as pd\n",
        "from sklearn.model_selection import train_test_split\n",
        "from sklearn.linear_model import LinearRegression\n",
        "from sklearn.metrics import mean_squared_error\n",
        "\n",
        "# Define feature columns\n",
        "feature_cols = ['Income', 'Limit', 'Rating', 'Cards', 'Age', 'Education', 'Married']\n",
        "\n",
        "# Extract features and target\n",
        "X = df[feature_cols]\n",
        "y = df['Balance']  # Assuming 'Balance' is the target variable\n",
        "\n",
        "# Split the data into training and testing sets (80% training, 20% testing)\n",
        "X_train, X_test, y_train, y_test = train_test_split(X, y, test_size=0.24, random_state=9)\n",
        "\n",
        "scaler = StandardScaler() # calls func standard Scalar and  scales features by removing mean and scaling to unit variance\n",
        "X_train_normalized = scaler.fit_transform(X_train)# fits scaler to (X_train) then transforms X_train by subtracting mean and dividing by standard deviation\n",
        "X_test_normalized = scaler.transform(X_test)# use\n",
        "\n",
        "# Instantiate Linear Regression model\n",
        "my_linreg = LinearRegression()\n",
        "\n",
        "# Fitting the model to the training data\n",
        "my_linreg.fit(X_train, y_train)\n",
        "print(my_linreg.intercept_)\n",
        "print(my_linreg.coef_)\n",
        "\n",
        "# Predict on the test set\n",
        "y_pred = my_linreg.predict(X_test)\n",
        "print(\"\")\n",
        "print(y_pred)"
      ],
      "id": "46276616"
    },
    {
      "cell_type": "code",
      "execution_count": 22,
      "metadata": {
        "id": "d70e755a",
        "colab": {
          "base_uri": "https://localhost:8080/"
        },
        "outputId": "fc71e37d-997b-416e-e1e9-3a6637cd4d85"
      },
      "outputs": [
        {
          "output_type": "stream",
          "name": "stdout",
          "text": [
            "3/3 [==============================] - 0s 6ms/step - loss: 16013.4326\n",
            "Mean Squared Error: 16013.4326171875\n",
            "3/3 [==============================] - 0s 4ms/step\n",
            "     Current Balance  Predicted Balanced\n",
            "57               133          218.345779\n",
            "32               526          601.934875\n",
            "17               368          400.001495\n",
            "167                0            0.223295\n",
            "2                580          616.803894\n",
            "..               ...                 ...\n",
            "25               671          745.241577\n",
            "397              138          172.601242\n",
            "62                 0           -0.842828\n",
            "305                0            2.749128\n",
            "379                0           16.132961\n",
            "\n",
            "[96 rows x 2 columns]\n"
          ]
        }
      ],
      "source": [
        "import pandas as pd\n",
        "from sklearn.model_selection import train_test_split\n",
        "from sklearn.preprocessing import StandardScaler\n",
        "from tensorflow.keras.models import Sequential\n",
        "from tensorflow.keras.layers import Dense\n",
        "from tensorflow.keras.optimizers import Adam\n",
        "\n",
        "# Define feature columns\n",
        "feature_cols = ['Income', 'Limit', 'Rating', 'Cards', 'Age', 'Education', 'Married']\n",
        "\n",
        "# Extract features and target\n",
        "X = df[feature_cols]\n",
        "y = df['Balance']  # Assuming 'Balance' is the target variable\n",
        "\n",
        "# Split the data into training and testing sets (80% training, 20% testing)\n",
        "X_train, X_test, y_train, y_test = train_test_split(X, y, test_size=0.24, random_state=9)\n",
        "\n",
        "# Standardize the features\n",
        "scaler = StandardScaler()\n",
        "X_train_scaled = scaler.fit_transform(X_train)\n",
        "X_test_scaled = scaler.transform(X_test)\n",
        "\n",
        "# Build the neural network model\n",
        "model = Sequential()\n",
        "model.add(Dense(64, input_dim=X_train_scaled.shape[1], activation='relu'))\n",
        "model.add(Dense(32, activation='relu'))\n",
        "model.add(Dense(1))  # No activation for the output layer for regression\n",
        "\n",
        "# Compile the model\n",
        "model.compile(optimizer=Adam(learning_rate=0.01), loss='mean_squared_error')\n",
        "\n",
        "# Train the model\n",
        "model.fit(X_train_scaled, y_train, epochs=50, batch_size=16, verbose=0)\n",
        "\n",
        "# Evaluate the model on the test set\n",
        "mse = model.evaluate(X_test_scaled, y_test)\n",
        "print(f'Mean Squared Error: {mse}')\n",
        "\n",
        "# Make predictions on the test set\n",
        "y_pred = model.predict(X_test_scaled)\n",
        "\n",
        "# Display predictions\n",
        "predictions_df = pd.DataFrame({'Current Balance': y_test, 'Predicted Balanced': y_pred.flatten()})\n",
        "print(predictions_df)"
      ],
      "id": "d70e755a"
    },
    {
      "cell_type": "markdown",
      "metadata": {
        "id": "dnU9047RtQyB"
      },
      "source": [
        "# Creating y target for Saya"
      ],
      "id": "dnU9047RtQyB"
    },
    {
      "cell_type": "code",
      "execution_count": 22,
      "metadata": {
        "id": "ZkJglGUKtXM_"
      },
      "outputs": [],
      "source": [],
      "id": "ZkJglGUKtXM_"
    },
    {
      "cell_type": "markdown",
      "metadata": {
        "id": "KE6sNn-ywghF"
      },
      "source": [
        "# created dataframe\n"
      ],
      "id": "KE6sNn-ywghF"
    },
    {
      "cell_type": "markdown",
      "metadata": {
        "id": "HkgDcPq41jkx"
      },
      "source": [
        "Inputs :\n",
        "*   number of people\n",
        "*   Type of building\n",
        "\n",
        "create dataframe:\n",
        "\n",
        "data = {\n",
        "\n",
        "*  'ID': [1 , 2 ,3],\n",
        "*  'monthwaterusage': [3000, 5000, 8000],\n",
        "*  'Leakage': [.04,2.72,9.18],\n",
        "*  '#ofPeople':['3, 30, 2'],\n",
        "*  'TypeofBuilding': [1, 0, 1],\n",
        "*  'Usage':[]\n",
        "*  'risk factor':[] = y target\n",
        "*  psudocode (Usage) = Tf * type buildng / the amount of people\n",
        "*  psuedocode (risk factor)= monthwaterusage * leakage * type of building\n",
        "  }\n",
        "\n",
        "\n",
        "*   Look for information about how much would a leakage cost.\n",
        "*   look for information about the  the average usage of water is in a month for housing and office   \n"
      ],
      "id": "HkgDcPq41jkx"
    },
    {
      "cell_type": "code",
      "execution_count": null,
      "metadata": {
        "colab": {
          "base_uri": "https://localhost:8080/"
        },
        "id": "PhULlYjt6yae",
        "outputId": "07079f90-7227-4c71-d5a5-eb3708eb2a85"
      },
      "outputs": [
        {
          "name": "stdout",
          "output_type": "stream",
          "text": [
            "394.1484375\n"
          ]
        }
      ],
      "source": [
        "#this should be how to get the total flow from the month or  use the meterLocalTime\t to get it for the specific month and add it together\n",
        "monthwaterusage=RDR['tf'][3024]-RDR['tf'][0]\n",
        "print(monthwaterusage)"
      ],
      "id": "PhULlYjt6yae"
    },
    {
      "cell_type": "code",
      "execution_count": null,
      "metadata": {
        "colab": {
          "base_uri": "https://localhost:8080/"
        },
        "id": "aj729RwA7uzt",
        "outputId": "9f3f72a7-f899-4426-e7da-901b24940ded"
      },
      "outputs": [
        {
          "data": {
            "text/plain": [
              "0       89399.500000\n",
              "1       89399.500000\n",
              "2       89399.765625\n",
              "3       89401.617188\n",
              "4       89401.617188\n",
              "            ...     \n",
              "3200    89798.406250\n",
              "3201    89798.406250\n",
              "3202    89798.406250\n",
              "3203    89798.406250\n",
              "3204    89798.406250\n",
              "Name: tf, Length: 3205, dtype: float64"
            ]
          },
          "execution_count": 24,
          "metadata": {},
          "output_type": "execute_result"
        }
      ],
      "source": [
        "\n"
      ],
      "id": "aj729RwA7uzt"
    },
    {
      "cell_type": "code",
      "execution_count": null,
      "metadata": {
        "id": "uKByEWW18bcJ"
      },
      "outputs": [],
      "source": [],
      "id": "uKByEWW18bcJ"
    }
  ],
  "metadata": {
    "colab": {
      "provenance": [],
      "include_colab_link": true
    },
    "kernelspec": {
      "display_name": "Python 3 (ipykernel)",
      "language": "python",
      "name": "python3"
    },
    "language_info": {
      "codemirror_mode": {
        "name": "ipython",
        "version": 3
      },
      "file_extension": ".py",
      "mimetype": "text/x-python",
      "name": "python",
      "nbconvert_exporter": "python",
      "pygments_lexer": "ipython3",
      "version": "3.9.12"
    }
  },
  "nbformat": 4,
  "nbformat_minor": 5
}