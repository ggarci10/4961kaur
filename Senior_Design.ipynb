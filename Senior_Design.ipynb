{
  "cells": [
    {
      "cell_type": "markdown",
      "metadata": {
        "id": "view-in-github",
        "colab_type": "text"
      },
      "source": [
        "<a href=\"https://colab.research.google.com/github/ggarci10/4961kaur/blob/main/Senior_Design.ipynb\" target=\"_parent\"><img src=\"https://colab.research.google.com/assets/colab-badge.svg\" alt=\"Open In Colab\"/></a>"
      ]
    },
    {
      "cell_type": "code",
      "execution_count": null,
      "id": "279cbe18",
      "metadata": {
        "id": "279cbe18"
      },
      "outputs": [],
      "source": [
        "from sklearn.neighbors import KNeighborsClassifier\n",
        "from sklearn.model_selection import train_test_split\n",
        "from sklearn.metrics import accuracy_score\n",
        "from sklearn.tree import DecisionTreeClassifier\n",
        "from sklearn.linear_model import LogisticRegression\n",
        "from sklearn.preprocessing import OneHotEncoder\n",
        "from sklearn.model_selection import cross_val_score\n"
      ]
    },
    {
      "cell_type": "code",
      "execution_count": null,
      "id": "7aa7c606",
      "metadata": {
        "id": "7aa7c606"
      },
      "outputs": [],
      "source": [
        "import pandas as pd"
      ]
    },
    {
      "cell_type": "code",
      "execution_count": null,
      "id": "c2b10da4",
      "metadata": {
        "id": "c2b10da4"
      },
      "outputs": [],
      "source": [
        "RDR = pd.read_csv(\"https://raw.githubusercontent.com/ggarci10/4961kaur/main/RawData-Regina-June-2023.csv\")"
      ]
    },
    {
      "cell_type": "code",
      "execution_count": null,
      "id": "fd5b1768",
      "metadata": {
        "id": "fd5b1768",
        "outputId": "3926e0d3-9e0f-4dae-902a-17ae2c014f35"
      },
      "outputs": [
        {
          "name": "stdout",
          "output_type": "stream",
          "text": [
            "         id  meterNumber            gw      flow            tf        fr  fim  \\\n",
            "0     72720     19240566  b827eb5e5925  0.000000  89399.500000  0.043590  NaN   \n",
            "1     72721     19240566  b827eb5e5925  0.000000  89399.500000  0.000000  NaN   \n",
            "2     72722     19240566  b827eb5e5925  0.265625  89399.765625  0.000000  NaN   \n",
            "3     72723     19240566  b827eb5e5925  1.851562  89401.617188  0.062082  NaN   \n",
            "4     72724     19240566  b827eb5e5925  0.000000  89401.617188  0.058560  NaN   \n",
            "...     ...          ...           ...       ...           ...       ...  ...   \n",
            "3200  77170     19240566  b827eb5e5925  0.000000  89798.406250  0.000000  NaN   \n",
            "3201  77171     19240566  b827eb5e5925  0.000000  89798.406250  0.043590  NaN   \n",
            "3202  77172     19240566  b827eb5e5925  0.000000  89798.406250  0.000000  NaN   \n",
            "3203  77173     19240566  b827eb5e5925  0.000000  89798.406250  0.039627  NaN   \n",
            "3204  77174     19240566  b827eb5e5925  0.000000  89798.406250  0.000000  NaN   \n",
            "\n",
            "               meterLocalTime              createdDate    u  totalflowinft3  \\\n",
            "0     2023-06-01 00:08:33.000  2023-06-01 04:08:33.000  gal             0.0   \n",
            "1     2023-06-01 00:09:16.000  2023-06-01 04:09:16.000  gal             0.0   \n",
            "2     2023-06-01 03:24:03.000  2023-06-01 07:24:03.000  gal             0.0   \n",
            "3     2023-06-01 08:04:32.000  2023-06-01 12:04:32.000  gal             0.0   \n",
            "4     2023-06-01 08:04:44.000  2023-06-01 12:04:44.000  gal             0.0   \n",
            "...                       ...                      ...  ...             ...   \n",
            "3200  2023-06-30 22:43:53.000  2023-07-01 06:43:53.000  gal             0.0   \n",
            "3201  2023-06-30 23:42:39.000  2023-07-01 07:42:39.000  gal             0.0   \n",
            "3202  2023-06-30 23:46:36.000  2023-07-01 07:46:36.000  gal             0.0   \n",
            "3203  2023-06-30 23:52:59.000  2023-07-01 07:52:59.000  gal             0.0   \n",
            "3204  2023-06-30 23:53:02.000  2023-07-01 07:53:02.000  gal             0.0   \n",
            "\n",
            "      flowinft3  flowrateinft3  isDisplay  previousflow  anomaly  CustomerId  \n",
            "0           0.0            0.0       True  89399.500000    False       10849  \n",
            "1           0.0            0.0       True  89399.500000    False       10849  \n",
            "2           0.0            0.0      False  89399.500000    False       10849  \n",
            "3           0.0            0.0      False  89399.765625    False       10849  \n",
            "4           0.0            0.0       True  89401.617188    False       10849  \n",
            "...         ...            ...        ...           ...      ...         ...  \n",
            "3200        0.0            0.0       True  89798.406250    False       10849  \n",
            "3201        0.0            0.0       True  89798.406250    False       10849  \n",
            "3202        0.0            0.0       True  89798.406250    False       10849  \n",
            "3203        0.0            0.0       True  89798.406250    False       10849  \n",
            "3204        0.0            0.0       True  89798.406250    False       10849  \n",
            "\n",
            "[3205 rows x 17 columns]\n"
          ]
        }
      ],
      "source": [
        "print(RDR)"
      ]
    },
    {
      "cell_type": "code",
      "execution_count": null,
      "id": "a26839bb",
      "metadata": {
        "id": "a26839bb"
      },
      "outputs": [],
      "source": [
        "#DA = pd.read_csv(\"https://raw.githubusercontent.com/ggarci10/4961kaur/main/ReginaLeakNotificationDataAllYear2022-23.csv?token=GHSAT0AAAAAACJ45HEHYZRDGGC6RO2IY4OUZKJPJMQ\")"
      ]
    },
    {
      "cell_type": "code",
      "execution_count": null,
      "id": "0b81b012",
      "metadata": {
        "id": "0b81b012"
      },
      "outputs": [],
      "source": [
        "#print(DA)"
      ]
    },
    {
      "cell_type": "code",
      "execution_count": null,
      "id": "2dee483a",
      "metadata": {
        "id": "2dee483a"
      },
      "outputs": [],
      "source": [
        "#WCS = pd.read_csv(\"https://raw.githubusercontent.com/ggarci10/4961kaur/main/WaterClassifySummary.csv?token=GHSAT0AAAAAACJ45HEHKFQRSBOP7HXUN5LIZKJPG4Q\")"
      ]
    },
    {
      "cell_type": "code",
      "execution_count": null,
      "id": "9e366cef",
      "metadata": {
        "id": "9e366cef"
      },
      "outputs": [],
      "source": [
        "#print(WCS)"
      ]
    },
    {
      "cell_type": "code",
      "execution_count": null,
      "id": "ad7b9473",
      "metadata": {
        "id": "ad7b9473"
      },
      "outputs": [],
      "source": [
        "#WCDF = pd.read_csv(\"https://raw.githubusercontent.com/ggarci10/4961kaur/main/WatreClassifyDataFrame.csv?token=GHSAT0AAAAAACJ45HEGYFZJMGODJBJWVNBQZKJPH3A\")"
      ]
    },
    {
      "cell_type": "code",
      "execution_count": null,
      "id": "a8d975a7",
      "metadata": {
        "id": "a8d975a7"
      },
      "outputs": [],
      "source": [
        "#print(WCDF)"
      ]
    },
    {
      "cell_type": "markdown",
      "id": "95f84e17",
      "metadata": {
        "id": "95f84e17"
      },
      "source": [
        "**dummy file for testing**"
      ]
    },
    {
      "cell_type": "code",
      "execution_count": null,
      "id": "75b43b14",
      "metadata": {
        "id": "75b43b14"
      },
      "outputs": [],
      "source": [
        "df = pd.read_csv(\"https://github.com/mpourhoma/CS4661/raw/master/Heart_s2.csv\")"
      ]
    },
    {
      "cell_type": "code",
      "execution_count": null,
      "id": "3b80ae26",
      "metadata": {
        "id": "3b80ae26",
        "outputId": "04144abb-323f-4f81-c53b-a99fff26c6c8"
      },
      "outputs": [
        {
          "name": "stdout",
          "output_type": "stream",
          "text": [
            "     Age     ChestPain  RestBP  Chol  RestECG  MaxHR  Oldpeak        Thal  AHD\n",
            "0     63       typical     145   233        2    150      2.3       fixed   No\n",
            "1     67  asymptomatic     160   286        2    108      1.5      normal  Yes\n",
            "2     67  asymptomatic     120   229        2    129      2.6  reversable  Yes\n",
            "3     37    nonanginal     130   250        0    187      3.5      normal   No\n",
            "4     41    nontypical     130   204        2    172      1.4      normal   No\n",
            "..   ...           ...     ...   ...      ...    ...      ...         ...  ...\n",
            "296   45       typical     110   264        0    132      1.2  reversable  Yes\n",
            "297   68  asymptomatic     144   193        0    141      3.4  reversable  Yes\n",
            "298   57  asymptomatic     130   131        0    115      1.2  reversable  Yes\n",
            "299   57    nontypical     130   236        2    174      0.0      normal  Yes\n",
            "300   38    nonanginal     138   175        0    173      0.0      normal   No\n",
            "\n",
            "[301 rows x 9 columns]\n"
          ]
        }
      ],
      "source": [
        "print(df)"
      ]
    },
    {
      "cell_type": "markdown",
      "id": "f5440b7e",
      "metadata": {
        "id": "f5440b7e"
      },
      "source": [
        "# Feature importance TESTER"
      ]
    },
    {
      "cell_type": "code",
      "execution_count": null,
      "id": "46276616",
      "metadata": {
        "id": "46276616",
        "outputId": "6d362584-7197-4665-d889-2af3c303c3c9"
      },
      "outputs": [
        {
          "name": "stdout",
          "output_type": "stream",
          "text": [
            "                    Age      RestBP        Chol   RestECG       MaxHR  \\\n",
            "ClusterLabel                                                            \n",
            "0             53.164835  130.824176  236.582418  0.890110  159.351648   \n",
            "1             57.672566  134.044248  256.743363  1.203540  136.000000   \n",
            "2             51.388889  129.305556  244.250000  0.833333  163.666667   \n",
            "\n",
            "               Oldpeak  Thal_fixed  Thal_normal  Thal_reversable  \\\n",
            "ClusterLabel                                                       \n",
            "0             0.801099    0.032967     0.780220         0.186813   \n",
            "1             1.484956    0.088496     0.283186         0.628319   \n",
            "2             0.258333    0.055556     0.777778         0.166667   \n",
            "\n",
            "              ChestPain_asymptomatic  ChestPain_nonanginal  \\\n",
            "ClusterLabel                                                 \n",
            "0                           0.120879              0.703297   \n",
            "1                           0.911504              0.053097   \n",
            "2                           0.000000              0.000000   \n",
            "\n",
            "              ChestPain_nontypical  ChestPain_typical  \n",
            "ClusterLabel                                           \n",
            "0                          0.00000           0.175824  \n",
            "1                          0.00885           0.026549  \n",
            "2                          1.00000           0.000000  \n"
          ]
        },
        {
          "data": {
            "image/png": "[encoded data removed]",
            "text/plain": [
              "<Figure size 432x288 with 1 Axes>"
            ]
          },
          "metadata": {
            "needs_background": "light"
          },
          "output_type": "display_data"
        }
      ],
      "source": [
        "# Import necessary libraries\n",
        "import pandas as pd\n",
        "from sklearn.cluster import KMeans\n",
        "from sklearn.model_selection import train_test_split\n",
        "from sklearn.preprocessing import StandardScaler\n",
        "from sklearn.metrics import accuracy_score\n",
        "\n",
        "# Create dummy columns using get_dummies function and selecting the columns 'Thal' and 'ChestPain'\n",
        "df_encoded = pd.get_dummies(df, columns=['ChestPain', 'Thal'])\n",
        "\n",
        "# Define feature columns\n",
        "feature_cols = ['Age', 'RestBP', 'Chol', 'RestECG', 'MaxHR', 'Oldpeak', 'Thal_fixed', 'Thal_normal', 'Thal_reversable',\n",
        "                'ChestPain_asymptomatic', 'ChestPain_nonanginal', 'ChestPain_nontypical', 'ChestPain_typical']\n",
        "\n",
        "# Extract features\n",
        "X = df_encoded[feature_cols]\n",
        "\n",
        "# Standardize the features\n",
        "scaler = StandardScaler()\n",
        "X_scaled = scaler.fit_transform(X)\n",
        "\n",
        "# Perform K-means clustering (example with 3 clusters)\n",
        "n_clusters = 3\n",
        "kmeans = KMeans(n_clusters=n_clusters, random_state=42)\n",
        "cluster_labels = kmeans.fit_predict(X_scaled)\n",
        "\n",
        "# Add cluster labels to the dataframe\n",
        "df_encoded['ClusterLabel'] = cluster_labels\n",
        "\n",
        "# Split the data into training and testing sets (80% training, 20% testing)\n",
        "X_train, X_test = train_test_split(df_encoded, test_size=0.2, random_state=42)\n",
        "\n",
        "# Use Cluster labels for unsupervised clustering evaluation (accuracy is not applicable for unsupervised methods)\n",
        "train_cluster_labels = X_train['ClusterLabel']\n",
        "test_cluster_labels = X_test['ClusterLabel']\n",
        "\n",
        "cluster_means = X_train.groupby('ClusterLabel')[feature_cols].mean()\n",
        "print(cluster_means)\n",
        "from sklearn.decomposition import PCA\n",
        "import matplotlib.pyplot as plt\n",
        "\n",
        "pca = PCA(n_components=2)\n",
        "X_pca = pca.fit_transform(X_scaled)\n",
        "cluster_centers_pca = pca.transform(kmeans.cluster_centers_)\n",
        "\n",
        "plt.scatter(X_pca[:, 0], X_pca[:, 1], c=cluster_labels, cmap='rainbow')\n",
        "plt.scatter(cluster_centers_pca[:, 0], cluster_centers_pca[:, 1], marker='x', s=200, linewidths=3, color='black')\n",
        "plt.xlabel('Age')\n",
        "plt.ylabel('RestBP')\n",
        "plt.title('Cluster Centers in PCA Space')\n",
        "plt.show()"
      ]
    },
    {
      "cell_type": "code",
      "execution_count": null,
      "id": "d70e755a",
      "metadata": {
        "id": "d70e755a",
        "outputId": "6d7a0ea2-0221-456a-95ba-e97dec2d2d29"
      },
      "outputs": [
        {
          "name": "stdout",
          "output_type": "stream",
          "text": [
            "Train Silhouette Score: -0.04615525657830622\n",
            "Test Silhouette Score: -0.028551464293050922\n"
          ]
        }
      ],
      "source": [
        "from sklearn.metrics import silhouette_score\n",
        "\n",
        "train_silhouette_score = silhouette_score(X_train[feature_cols], train_cluster_labels)\n",
        "test_silhouette_score = silhouette_score(X_test[feature_cols], test_cluster_labels)\n",
        "\n",
        "print(f\"Train Silhouette Score: {train_silhouette_score}\")\n",
        "print(f\"Test Silhouette Score: {test_silhouette_score}\")"
      ]
    },
    {
      "cell_type": "code",
      "execution_count": null,
      "id": "b8abfd17",
      "metadata": {
        "colab": {
          "base_uri": "https://localhost:8080/"
        },
        "id": "b8abfd17",
        "outputId": "ec78e78b-9aab-44b9-b748-96835d686772"
      },
      "outputs": [
        {
          "output_type": "stream",
          "name": "stdout",
          "text": [
            "HELLO!\n"
          ]
        }
      ],
      "source": [
        "print(\"HELLO!\")"
      ]
    },
    {
      "cell_type": "code",
      "execution_count": null,
      "id": "663fbe9c",
      "metadata": {
        "id": "663fbe9c"
      },
      "outputs": [],
      "source": [
        "print(\"github\")"
      ]
    },
    {
      "cell_type": "code",
      "execution_count": null,
      "id": "5bf6d3fb",
      "metadata": {
        "id": "5bf6d3fb"
      },
      "outputs": [],
      "source": [
        "print(\"idk\")"
      ]
    },
    {
      "cell_type": "code",
      "execution_count": null,
      "id": "cab586e2",
      "metadata": {
        "id": "cab586e2"
      },
      "outputs": [],
      "source": [
        "print(\"KOBE\")"
      ]
    },
    {
      "cell_type": "code",
      "execution_count": null,
      "id": "7bb24457",
      "metadata": {
        "id": "7bb24457"
      },
      "outputs": [],
      "source": []
    },
    {
      "cell_type": "code",
      "execution_count": null,
      "id": "16449ea7",
      "metadata": {
        "id": "16449ea7"
      },
      "outputs": [],
      "source": []
    },
    {
      "cell_type": "code",
      "execution_count": null,
      "id": "9f07307d",
      "metadata": {
        "id": "9f07307d"
      },
      "outputs": [],
      "source": []
    }
  ],
  "metadata": {
    "kernelspec": {
      "display_name": "Python 3 (ipykernel)",
      "language": "python",
      "name": "python3"
    },
    "language_info": {
      "codemirror_mode": {
        "name": "ipython",
        "version": 3
      },
      "file_extension": ".py",
      "mimetype": "text/x-python",
      "name": "python",
      "nbconvert_exporter": "python",
      "pygments_lexer": "ipython3",
      "version": "3.9.12"
    },
    "colab": {
      "provenance": [],
      "include_colab_link": true
    }
  },
  "nbformat": 4,
  "nbformat_minor": 5
}