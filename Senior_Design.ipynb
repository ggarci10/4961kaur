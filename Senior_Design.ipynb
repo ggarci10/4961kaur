{
  "cells": [
    {
      "cell_type": "markdown",
      "metadata": {
        "id": "view-in-github",
        "colab_type": "text"
      },
      "source": [
        "<a href=\"https://colab.research.google.com/github/ggarci10/4961kaur/blob/main/Senior_Design.ipynb\" target=\"_parent\"><img src=\"https://colab.research.google.com/assets/colab-badge.svg\" alt=\"Open In Colab\"/></a>"
      ]
    },
    {
      "cell_type": "code",
      "execution_count": null,
      "id": "279cbe18",
      "metadata": {
        "id": "279cbe18"
      },
      "outputs": [],
      "source": [
        "from sklearn.neighbors import KNeighborsClassifier\n",
        "from sklearn.model_selection import train_test_split\n",
        "from sklearn.metrics import accuracy_score\n",
        "from sklearn.tree import DecisionTreeClassifier\n",
        "from sklearn.linear_model import LogisticRegression\n",
        "from sklearn.preprocessing import OneHotEncoder\n",
        "from sklearn.model_selection import cross_val_score\n"
      ]
    },
    {
      "cell_type": "code",
      "execution_count": null,
      "id": "7aa7c606",
      "metadata": {
        "id": "7aa7c606"
      },
      "outputs": [],
      "source": [
        "import pandas as pd"
      ]
    },
    {
      "cell_type": "code",
      "execution_count": null,
      "id": "c2b10da4",
      "metadata": {
        "id": "c2b10da4"
      },
      "outputs": [],
      "source": [
        "RDR = pd.read_csv(\"https://raw.githubusercontent.com/ggarci10/4961kaur/main/RawData-Regina-June-2023.csv\")"
      ]
    },
    {
      "cell_type": "code",
      "execution_count": 45,
      "id": "fd5b1768",
      "metadata": {
        "id": "fd5b1768",
        "outputId": "a6b0dcc3-6ec2-4bb2-ddc2-1709827e7f02",
        "colab": {
          "base_uri": "https://localhost:8080/",
          "height": 313
        }
      },
      "outputs": [
        {
          "output_type": "execute_result",
          "data": {
            "text/plain": [
              "      id  meterNumber            gw      flow            tf        fr  fim  \\\n",
              "0  72720     19240566  b827eb5e5925  0.000000  89399.500000  0.043590  NaN   \n",
              "1  72721     19240566  b827eb5e5925  0.000000  89399.500000  0.000000  NaN   \n",
              "2  72722     19240566  b827eb5e5925  0.265625  89399.765625  0.000000  NaN   \n",
              "3  72723     19240566  b827eb5e5925  1.851562  89401.617188  0.062082  NaN   \n",
              "4  72724     19240566  b827eb5e5925  0.000000  89401.617188  0.058560  NaN   \n",
              "\n",
              "            meterLocalTime              createdDate    u  totalflowinft3  \\\n",
              "0  2023-06-01 00:08:33.000  2023-06-01 04:08:33.000  gal             0.0   \n",
              "1  2023-06-01 00:09:16.000  2023-06-01 04:09:16.000  gal             0.0   \n",
              "2  2023-06-01 03:24:03.000  2023-06-01 07:24:03.000  gal             0.0   \n",
              "3  2023-06-01 08:04:32.000  2023-06-01 12:04:32.000  gal             0.0   \n",
              "4  2023-06-01 08:04:44.000  2023-06-01 12:04:44.000  gal             0.0   \n",
              "\n",
              "   flowinft3  flowrateinft3  isDisplay  previousflow  anomaly  CustomerId  \n",
              "0        0.0            0.0       True  89399.500000    False       10849  \n",
              "1        0.0            0.0       True  89399.500000    False       10849  \n",
              "2        0.0            0.0      False  89399.500000    False       10849  \n",
              "3        0.0            0.0      False  89399.765625    False       10849  \n",
              "4        0.0            0.0       True  89401.617188    False       10849  "
            ],
            "text/html": [
              "\n",
              "  <div id=\"df-ffb2bf1a-b3d6-4151-8b13-eb59832a342e\" class=\"colab-df-container\">\n",
              "    <div>\n",
              "<style scoped>\n",
              "    .dataframe tbody tr th:only-of-type {\n",
              "        vertical-align: middle;\n",
              "    }\n",
              "\n",
              "    .dataframe tbody tr th {\n",
              "        vertical-align: top;\n",
              "    }\n",
              "\n",
              "    .dataframe thead th {\n",
              "        text-align: right;\n",
              "    }\n",
              "</style>\n",
              "<table border=\"1\" class=\"dataframe\">\n",
              "  <thead>\n",
              "    <tr style=\"text-align: right;\">\n",
              "      <th></th>\n",
              "      <th>id</th>\n",
              "      <th>meterNumber</th>\n",
              "      <th>gw</th>\n",
              "      <th>flow</th>\n",
              "      <th>tf</th>\n",
              "      <th>fr</th>\n",
              "      <th>fim</th>\n",
              "      <th>meterLocalTime</th>\n",
              "      <th>createdDate</th>\n",
              "      <th>u</th>\n",
              "      <th>totalflowinft3</th>\n",
              "      <th>flowinft3</th>\n",
              "      <th>flowrateinft3</th>\n",
              "      <th>isDisplay</th>\n",
              "      <th>previousflow</th>\n",
              "      <th>anomaly</th>\n",
              "      <th>CustomerId</th>\n",
              "    </tr>\n",
              "  </thead>\n",
              "  <tbody>\n",
              "    <tr>\n",
              "      <th>0</th>\n",
              "      <td>72720</td>\n",
              "      <td>19240566</td>\n",
              "      <td>b827eb5e5925</td>\n",
              "      <td>0.000000</td>\n",
              "      <td>89399.500000</td>\n",
              "      <td>0.043590</td>\n",
              "      <td>NaN</td>\n",
              "      <td>2023-06-01 00:08:33.000</td>\n",
              "      <td>2023-06-01 04:08:33.000</td>\n",
              "      <td>gal</td>\n",
              "      <td>0.0</td>\n",
              "      <td>0.0</td>\n",
              "      <td>0.0</td>\n",
              "      <td>True</td>\n",
              "      <td>89399.500000</td>\n",
              "      <td>False</td>\n",
              "      <td>10849</td>\n",
              "    </tr>\n",
              "    <tr>\n",
              "      <th>1</th>\n",
              "      <td>72721</td>\n",
              "      <td>19240566</td>\n",
              "      <td>b827eb5e5925</td>\n",
              "      <td>0.000000</td>\n",
              "      <td>89399.500000</td>\n",
              "      <td>0.000000</td>\n",
              "      <td>NaN</td>\n",
              "      <td>2023-06-01 00:09:16.000</td>\n",
              "      <td>2023-06-01 04:09:16.000</td>\n",
              "      <td>gal</td>\n",
              "      <td>0.0</td>\n",
              "      <td>0.0</td>\n",
              "      <td>0.0</td>\n",
              "      <td>True</td>\n",
              "      <td>89399.500000</td>\n",
              "      <td>False</td>\n",
              "      <td>10849</td>\n",
              "    </tr>\n",
              "    <tr>\n",
              "      <th>2</th>\n",
              "      <td>72722</td>\n",
              "      <td>19240566</td>\n",
              "      <td>b827eb5e5925</td>\n",
              "      <td>0.265625</td>\n",
              "      <td>89399.765625</td>\n",
              "      <td>0.000000</td>\n",
              "      <td>NaN</td>\n",
              "      <td>2023-06-01 03:24:03.000</td>\n",
              "      <td>2023-06-01 07:24:03.000</td>\n",
              "      <td>gal</td>\n",
              "      <td>0.0</td>\n",
              "      <td>0.0</td>\n",
              "      <td>0.0</td>\n",
              "      <td>False</td>\n",
              "      <td>89399.500000</td>\n",
              "      <td>False</td>\n",
              "      <td>10849</td>\n",
              "    </tr>\n",
              "    <tr>\n",
              "      <th>3</th>\n",
              "      <td>72723</td>\n",
              "      <td>19240566</td>\n",
              "      <td>b827eb5e5925</td>\n",
              "      <td>1.851562</td>\n",
              "      <td>89401.617188</td>\n",
              "      <td>0.062082</td>\n",
              "      <td>NaN</td>\n",
              "      <td>2023-06-01 08:04:32.000</td>\n",
              "      <td>2023-06-01 12:04:32.000</td>\n",
              "      <td>gal</td>\n",
              "      <td>0.0</td>\n",
              "      <td>0.0</td>\n",
              "      <td>0.0</td>\n",
              "      <td>False</td>\n",
              "      <td>89399.765625</td>\n",
              "      <td>False</td>\n",
              "      <td>10849</td>\n",
              "    </tr>\n",
              "    <tr>\n",
              "      <th>4</th>\n",
              "      <td>72724</td>\n",
              "      <td>19240566</td>\n",
              "      <td>b827eb5e5925</td>\n",
              "      <td>0.000000</td>\n",
              "      <td>89401.617188</td>\n",
              "      <td>0.058560</td>\n",
              "      <td>NaN</td>\n",
              "      <td>2023-06-01 08:04:44.000</td>\n",
              "      <td>2023-06-01 12:04:44.000</td>\n",
              "      <td>gal</td>\n",
              "      <td>0.0</td>\n",
              "      <td>0.0</td>\n",
              "      <td>0.0</td>\n",
              "      <td>True</td>\n",
              "      <td>89401.617188</td>\n",
              "      <td>False</td>\n",
              "      <td>10849</td>\n",
              "    </tr>\n",
              "  </tbody>\n",
              "</table>\n",
              "</div>\n",
              "    <div class=\"colab-df-buttons\">\n",
              "\n",
              "  <div class=\"colab-df-container\">\n",
              "    <button class=\"colab-df-convert\" onclick=\"convertToInteractive('df-ffb2bf1a-b3d6-4151-8b13-eb59832a342e')\"\n",
              "            title=\"Convert this dataframe to an interactive table.\"\n",
              "            style=\"display:none;\">\n",
              "\n",
              "  <svg xmlns=\"http://www.w3.org/2000/svg\" height=\"24px\" viewBox=\"0 -960 960 960\">\n",
              "    <path d=\"M120-120v-720h720v720H120Zm60-500h600v-160H180v160Zm220 220h160v-160H400v160Zm0 220h160v-160H400v160ZM180-400h160v-160H180v160Zm440 0h160v-160H620v160ZM180-180h160v-160H180v160Zm440 0h160v-160H620v160Z\"/>\n",
              "  </svg>\n",
              "    </button>\n",
              "\n",
              "  <style>\n",
              "    .colab-df-container {\n",
              "      display:flex;\n",
              "      gap: 12px;\n",
              "    }\n",
              "\n",
              "    .colab-df-convert {\n",
              "      background-color: #E8F0FE;\n",
              "      border: none;\n",
              "      border-radius: 50%;\n",
              "      cursor: pointer;\n",
              "      display: none;\n",
              "      fill: #1967D2;\n",
              "      height: 32px;\n",
              "      padding: 0 0 0 0;\n",
              "      width: 32px;\n",
              "    }\n",
              "\n",
              "    .colab-df-convert:hover {\n",
              "      background-color: #E2EBFA;\n",
              "      box-shadow: 0px 1px 2px rgba(60, 64, 67, 0.3), 0px 1px 3px 1px rgba(60, 64, 67, 0.15);\n",
              "      fill: #174EA6;\n",
              "    }\n",
              "\n",
              "    .colab-df-buttons div {\n",
              "      margin-bottom: 4px;\n",
              "    }\n",
              "\n",
              "    [theme=dark] .colab-df-convert {\n",
              "      background-color: #3B4455;\n",
              "      fill: #D2E3FC;\n",
              "    }\n",
              "\n",
              "    [theme=dark] .colab-df-convert:hover {\n",
              "      background-color: #434B5C;\n",
              "      box-shadow: 0px 1px 3px 1px rgba(0, 0, 0, 0.15);\n",
              "      filter: drop-shadow(0px 1px 2px rgba(0, 0, 0, 0.3));\n",
              "      fill: #FFFFFF;\n",
              "    }\n",
              "  </style>\n",
              "\n",
              "    <script>\n",
              "      const buttonEl =\n",
              "        document.querySelector('#df-ffb2bf1a-b3d6-4151-8b13-eb59832a342e button.colab-df-convert');\n",
              "      buttonEl.style.display =\n",
              "        google.colab.kernel.accessAllowed ? 'block' : 'none';\n",
              "\n",
              "      async function convertToInteractive(key) {\n",
              "        const element = document.querySelector('#df-ffb2bf1a-b3d6-4151-8b13-eb59832a342e');\n",
              "        const dataTable =\n",
              "          await google.colab.kernel.invokeFunction('convertToInteractive',\n",
              "                                                    [key], {});\n",
              "        if (!dataTable) return;\n",
              "\n",
              "        const docLinkHtml = 'Like what you see? Visit the ' +\n",
              "          '<a target=\"_blank\" href=https://colab.research.google.com/notebooks/data_table.ipynb>data table notebook</a>'\n",
              "          + ' to learn more about interactive tables.';\n",
              "        element.innerHTML = '';\n",
              "        dataTable['output_type'] = 'display_data';\n",
              "        await google.colab.output.renderOutput(dataTable, element);\n",
              "        const docLink = document.createElement('div');\n",
              "        docLink.innerHTML = docLinkHtml;\n",
              "        element.appendChild(docLink);\n",
              "      }\n",
              "    </script>\n",
              "  </div>\n",
              "\n",
              "\n",
              "<div id=\"df-156e0762-97e5-4cd9-ac48-02935e1968f0\">\n",
              "  <button class=\"colab-df-quickchart\" onclick=\"quickchart('df-156e0762-97e5-4cd9-ac48-02935e1968f0')\"\n",
              "            title=\"Suggest charts\"\n",
              "            style=\"display:none;\">\n",
              "\n",
              "<svg xmlns=\"http://www.w3.org/2000/svg\" height=\"24px\"viewBox=\"0 0 24 24\"\n",
              "     width=\"24px\">\n",
              "    <g>\n",
              "        <path d=\"M19 3H5c-1.1 0-2 .9-2 2v14c0 1.1.9 2 2 2h14c1.1 0 2-.9 2-2V5c0-1.1-.9-2-2-2zM9 17H7v-7h2v7zm4 0h-2V7h2v10zm4 0h-2v-4h2v4z\"/>\n",
              "    </g>\n",
              "</svg>\n",
              "  </button>\n",
              "\n",
              "<style>\n",
              "  .colab-df-quickchart {\n",
              "      --bg-color: #E8F0FE;\n",
              "      --fill-color: #1967D2;\n",
              "      --hover-bg-color: #E2EBFA;\n",
              "      --hover-fill-color: #174EA6;\n",
              "      --disabled-fill-color: #AAA;\n",
              "      --disabled-bg-color: #DDD;\n",
              "  }\n",
              "\n",
              "  [theme=dark] .colab-df-quickchart {\n",
              "      --bg-color: #3B4455;\n",
              "      --fill-color: #D2E3FC;\n",
              "      --hover-bg-color: #434B5C;\n",
              "      --hover-fill-color: #FFFFFF;\n",
              "      --disabled-bg-color: #3B4455;\n",
              "      --disabled-fill-color: #666;\n",
              "  }\n",
              "\n",
              "  .colab-df-quickchart {\n",
              "    background-color: var(--bg-color);\n",
              "    border: none;\n",
              "    border-radius: 50%;\n",
              "    cursor: pointer;\n",
              "    display: none;\n",
              "    fill: var(--fill-color);\n",
              "    height: 32px;\n",
              "    padding: 0;\n",
              "    width: 32px;\n",
              "  }\n",
              "\n",
              "  .colab-df-quickchart:hover {\n",
              "    background-color: var(--hover-bg-color);\n",
              "    box-shadow: 0 1px 2px rgba(60, 64, 67, 0.3), 0 1px 3px 1px rgba(60, 64, 67, 0.15);\n",
              "    fill: var(--button-hover-fill-color);\n",
              "  }\n",
              "\n",
              "  .colab-df-quickchart-complete:disabled,\n",
              "  .colab-df-quickchart-complete:disabled:hover {\n",
              "    background-color: var(--disabled-bg-color);\n",
              "    fill: var(--disabled-fill-color);\n",
              "    box-shadow: none;\n",
              "  }\n",
              "\n",
              "  .colab-df-spinner {\n",
              "    border: 2px solid var(--fill-color);\n",
              "    border-color: transparent;\n",
              "    border-bottom-color: var(--fill-color);\n",
              "    animation:\n",
              "      spin 1s steps(1) infinite;\n",
              "  }\n",
              "\n",
              "  @keyframes spin {\n",
              "    0% {\n",
              "      border-color: transparent;\n",
              "      border-bottom-color: var(--fill-color);\n",
              "      border-left-color: var(--fill-color);\n",
              "    }\n",
              "    20% {\n",
              "      border-color: transparent;\n",
              "      border-left-color: var(--fill-color);\n",
              "      border-top-color: var(--fill-color);\n",
              "    }\n",
              "    30% {\n",
              "      border-color: transparent;\n",
              "      border-left-color: var(--fill-color);\n",
              "      border-top-color: var(--fill-color);\n",
              "      border-right-color: var(--fill-color);\n",
              "    }\n",
              "    40% {\n",
              "      border-color: transparent;\n",
              "      border-right-color: var(--fill-color);\n",
              "      border-top-color: var(--fill-color);\n",
              "    }\n",
              "    60% {\n",
              "      border-color: transparent;\n",
              "      border-right-color: var(--fill-color);\n",
              "    }\n",
              "    80% {\n",
              "      border-color: transparent;\n",
              "      border-right-color: var(--fill-color);\n",
              "      border-bottom-color: var(--fill-color);\n",
              "    }\n",
              "    90% {\n",
              "      border-color: transparent;\n",
              "      border-bottom-color: var(--fill-color);\n",
              "    }\n",
              "  }\n",
              "</style>\n",
              "\n",
              "  <script>\n",
              "    async function quickchart(key) {\n",
              "      const quickchartButtonEl =\n",
              "        document.querySelector('#' + key + ' button');\n",
              "      quickchartButtonEl.disabled = true;  // To prevent multiple clicks.\n",
              "      quickchartButtonEl.classList.add('colab-df-spinner');\n",
              "      try {\n",
              "        const charts = await google.colab.kernel.invokeFunction(\n",
              "            'suggestCharts', [key], {});\n",
              "      } catch (error) {\n",
              "        console.error('Error during call to suggestCharts:', error);\n",
              "      }\n",
              "      quickchartButtonEl.classList.remove('colab-df-spinner');\n",
              "      quickchartButtonEl.classList.add('colab-df-quickchart-complete');\n",
              "    }\n",
              "    (() => {\n",
              "      let quickchartButtonEl =\n",
              "        document.querySelector('#df-156e0762-97e5-4cd9-ac48-02935e1968f0 button');\n",
              "      quickchartButtonEl.style.display =\n",
              "        google.colab.kernel.accessAllowed ? 'block' : 'none';\n",
              "    })();\n",
              "  </script>\n",
              "</div>\n",
              "    </div>\n",
              "  </div>\n"
            ]
          },
          "metadata": {},
          "execution_count": 45
        }
      ],
      "source": [
        "RDR.head()"
      ]
    },
    {
      "source": [],
      "cell_type": "code",
      "metadata": {
        "id": "pYTcgYszaAu8"
      },
      "id": "pYTcgYszaAu8",
      "execution_count": 44,
      "outputs": []
    },
    {
      "source": [],
      "cell_type": "code",
      "metadata": {
        "id": "edZwqcvLZ4j6"
      },
      "id": "edZwqcvLZ4j6",
      "execution_count": 44,
      "outputs": []
    },
    {
      "cell_type": "code",
      "execution_count": null,
      "id": "a26839bb",
      "metadata": {
        "id": "a26839bb"
      },
      "outputs": [],
      "source": [
        "#DA = pd.read_csv(\"https://raw.githubusercontent.com/ggarci10/4961kaur/main/ReginaLeakNotificationDataAllYear2022-23.csv?token=GHSAT0AAAAAACJ45HEHYZRDGGC6RO2IY4OUZKJPJMQ\")"
      ]
    },
    {
      "cell_type": "code",
      "execution_count": null,
      "id": "0b81b012",
      "metadata": {
        "id": "0b81b012"
      },
      "outputs": [],
      "source": [
        "#print(DA)"
      ]
    },
    {
      "cell_type": "code",
      "execution_count": null,
      "id": "2dee483a",
      "metadata": {
        "id": "2dee483a"
      },
      "outputs": [],
      "source": [
        "#WCS = pd.read_csv(\"https://raw.githubusercontent.com/ggarci10/4961kaur/main/WaterClassifySummary.csv?token=GHSAT0AAAAAACJ45HEHKFQRSBOP7HXUN5LIZKJPG4Q\")"
      ]
    },
    {
      "cell_type": "code",
      "execution_count": null,
      "id": "9e366cef",
      "metadata": {
        "id": "9e366cef"
      },
      "outputs": [],
      "source": [
        "#print(WCS)"
      ]
    },
    {
      "cell_type": "code",
      "execution_count": null,
      "id": "ad7b9473",
      "metadata": {
        "id": "ad7b9473"
      },
      "outputs": [],
      "source": [
        "#WCDF = pd.read_csv(\"https://raw.githubusercontent.com/ggarci10/4961kaur/main/WatreClassifyDataFrame.csv?token=GHSAT0AAAAAACJ45HEGYFZJMGODJBJWVNBQZKJPH3A\")"
      ]
    },
    {
      "cell_type": "code",
      "execution_count": null,
      "id": "a8d975a7",
      "metadata": {
        "id": "a8d975a7"
      },
      "outputs": [],
      "source": [
        "#print(WCDF)"
      ]
    },
    {
      "cell_type": "markdown",
      "id": "95f84e17",
      "metadata": {
        "id": "95f84e17"
      },
      "source": [
        "**dummy file for testing**"
      ]
    },
    {
      "cell_type": "code",
      "execution_count": null,
      "id": "75b43b14",
      "metadata": {
        "id": "75b43b14"
      },
      "outputs": [],
      "source": [
        "df = pd.read_csv(\"https://github.com/mpourhoma/CS4661/raw/master/Credit.csv\")"
      ]
    },
    {
      "cell_type": "code",
      "execution_count": null,
      "id": "3b80ae26",
      "metadata": {
        "id": "3b80ae26",
        "outputId": "5629a66a-266c-4fad-a950-140e119372cc",
        "colab": {
          "base_uri": "https://localhost:8080/"
        }
      },
      "outputs": [
        {
          "output_type": "stream",
          "name": "stdout",
          "text": [
            "      Income  Limit  Rating  Cards  Age  Education  Married  Balance\n",
            "0     14.891   3606     283      2   34         11        1      333\n",
            "1    106.025   6645     483      3   82         15        1      903\n",
            "2    104.593   7075     514      4   71         11        0      580\n",
            "3    148.924   9504     681      3   36         11        0      964\n",
            "4     55.882   4897     357      2   68         16        1      331\n",
            "..       ...    ...     ...    ...  ...        ...      ...      ...\n",
            "395   12.096   4100     307      3   32         13        1      560\n",
            "396   13.364   3838     296      5   65         17        0      480\n",
            "397   57.872   4171     321      5   67         12        1      138\n",
            "398   37.728   2525     192      1   44         13        1        0\n",
            "399   18.701   5524     415      5   64          7        0      966\n",
            "\n",
            "[400 rows x 8 columns]\n"
          ]
        }
      ],
      "source": [
        "print(df)"
      ]
    },
    {
      "cell_type": "markdown",
      "id": "f5440b7e",
      "metadata": {
        "id": "f5440b7e"
      },
      "source": [
        "# Feature importance TESTER"
      ]
    },
    {
      "cell_type": "code",
      "execution_count": 39,
      "id": "46276616",
      "metadata": {
        "id": "46276616",
        "outputId": "0c5d6896-7bfd-4ae2-df01-93444501bfd7",
        "colab": {
          "base_uri": "https://localhost:8080/"
        }
      },
      "outputs": [
        {
          "output_type": "stream",
          "name": "stdout",
          "text": [
            "-497.0869076583074\n",
            "[ -7.5197188    0.15640406   1.6355104   18.19349659  -1.00062374\n",
            "   3.73501837 -20.17447952]\n",
            "\n",
            "[ 316.89813114  677.5093907   489.03669272  -49.82989971  706.42913216\n",
            "  864.96954115  897.65752581  108.20297732 -213.73474279  834.94198677\n",
            "   11.05109139 -227.34447869  472.01450822    4.54554458 -228.17349827\n",
            "  956.21537845  896.91570524  821.97824267   18.37144232  857.31517013\n",
            " 1028.30326279  699.22168497 1176.9426756   666.28578465  643.94064891\n",
            "  690.63628696  589.35273903  -29.37237394  575.15444917  406.78468032\n",
            "  845.81453327  828.30862904   82.2376206   953.40592514 -184.74828227\n",
            "  525.84335889 1045.19205022  535.04104472  107.26753118 -172.8968111\n",
            "  497.84037664 1155.35533939  429.08674601  403.49872552  143.72087313\n",
            "  764.78737012  431.24114308 1304.79656588  475.00132057   95.75404622\n",
            " -215.69000296    5.62900657  313.88797405  859.9328932   792.27147016\n",
            " 1029.90210771 1500.40180297 1078.48617624  713.37981473 1072.97948262\n",
            "  -64.12187718  488.60063387   92.3601712   440.414465    277.13284667\n",
            " 1075.41508762  258.10181743  773.89657462  278.12447916  409.51029492\n",
            "  335.56674013  989.87781589  978.31940615 1042.6230052   915.82319179\n",
            "  150.95645254  516.7089988   733.47654088   74.84330655  556.47429962\n",
            " 1096.60831626  359.12494251  204.54562103  407.76115868  113.50656023\n",
            "  958.07237887  934.59051997    2.98452112 1627.80317193  636.31395153\n",
            "  688.17824441  711.80910955  293.66354104 -219.28997401  -91.76701391\n",
            " -149.31642723]\n"
          ]
        }
      ],
      "source": [
        "# Import necessary libraries\n",
        "import pandas as pd\n",
        "from sklearn.model_selection import train_test_split\n",
        "from sklearn.linear_model import LinearRegression\n",
        "from sklearn.metrics import mean_squared_error\n",
        "\n",
        "# Define feature columns\n",
        "feature_cols = ['Income', 'Limit', 'Rating', 'Cards', 'Age', 'Education', 'Married']\n",
        "\n",
        "# Extract features and target\n",
        "X = df[feature_cols]\n",
        "y = df['Balance']  # Assuming 'Balance' is the target variable\n",
        "\n",
        "# Split the data into training and testing sets (80% training, 20% testing)\n",
        "X_train, X_test, y_train, y_test = train_test_split(X, y, test_size=0.24, random_state=9)\n",
        "\n",
        "scaler = StandardScaler() # calls func standard Scalar and  scales features by removing mean and scaling to unit variance\n",
        "X_train_normalized = scaler.fit_transform(X_train)# fits scaler to (X_train) then transforms X_train by subtracting mean and dividing by standard deviation\n",
        "X_test_normalized = scaler.transform(X_test)# use\n",
        "\n",
        "# Instantiate Linear Regression model\n",
        "my_linreg = LinearRegression()\n",
        "\n",
        "# Fitting the model to the training data\n",
        "my_linreg.fit(X_train, y_train)\n",
        "print(my_linreg.intercept_)\n",
        "print(my_linreg.coef_)\n",
        "\n",
        "# Predict on the test set\n",
        "y_pred = my_linreg.predict(X_test)\n",
        "print(\"\")\n",
        "print(y_pred)"
      ]
    },
    {
      "cell_type": "code",
      "execution_count": 41,
      "id": "d70e755a",
      "metadata": {
        "id": "d70e755a",
        "outputId": "98488c14-f708-4567-fde8-4168f5e133f0",
        "colab": {
          "base_uri": "https://localhost:8080/"
        }
      },
      "outputs": [
        {
          "output_type": "stream",
          "name": "stderr",
          "text": [
            "WARNING:tensorflow:5 out of the last 13 calls to <function Model.make_test_function.<locals>.test_function at 0x78de25799360> triggered tf.function retracing. Tracing is expensive and the excessive number of tracings could be due to (1) creating @tf.function repeatedly in a loop, (2) passing tensors with different shapes, (3) passing Python objects instead of tensors. For (1), please define your @tf.function outside of the loop. For (2), @tf.function has reduce_retracing=True option that can avoid unnecessary retracing. For (3), please refer to https://www.tensorflow.org/guide/function#controlling_retracing and https://www.tensorflow.org/api_docs/python/tf/function for  more details.\n"
          ]
        },
        {
          "output_type": "stream",
          "name": "stdout",
          "text": [
            "3/3 [==============================] - 0s 5ms/step - loss: 17882.7129\n"
          ]
        },
        {
          "output_type": "stream",
          "name": "stderr",
          "text": [
            "WARNING:tensorflow:5 out of the last 11 calls to <function Model.make_predict_function.<locals>.predict_function at 0x78de25799c60> triggered tf.function retracing. Tracing is expensive and the excessive number of tracings could be due to (1) creating @tf.function repeatedly in a loop, (2) passing tensors with different shapes, (3) passing Python objects instead of tensors. For (1), please define your @tf.function outside of the loop. For (2), @tf.function has reduce_retracing=True option that can avoid unnecessary retracing. For (3), please refer to https://www.tensorflow.org/guide/function#controlling_retracing and https://www.tensorflow.org/api_docs/python/tf/function for  more details.\n"
          ]
        },
        {
          "output_type": "stream",
          "name": "stdout",
          "text": [
            "Mean Squared Error: 17882.712890625\n",
            "3/3 [==============================] - 0s 4ms/step\n",
            "     Current Balance  Predicted Balanced\n",
            "57               133          220.245422\n",
            "32               526          614.355957\n",
            "17               368          415.582062\n",
            "167                0          -11.158638\n",
            "2                580          598.882690\n",
            "..               ...                 ...\n",
            "25               671          668.400574\n",
            "397              138          169.724152\n",
            "62                 0          -12.817097\n",
            "305                0           -7.562401\n",
            "379                0           12.897867\n",
            "\n",
            "[96 rows x 2 columns]\n"
          ]
        }
      ],
      "source": [
        "import pandas as pd\n",
        "from sklearn.model_selection import train_test_split\n",
        "from sklearn.preprocessing import StandardScaler\n",
        "from tensorflow.keras.models import Sequential\n",
        "from tensorflow.keras.layers import Dense\n",
        "from tensorflow.keras.optimizers import Adam\n",
        "\n",
        "# Define feature columns\n",
        "feature_cols = ['Income', 'Limit', 'Rating', 'Cards', 'Age', 'Education', 'Married']\n",
        "\n",
        "# Extract features and target\n",
        "X = df[feature_cols]\n",
        "y = df['Balance']  # Assuming 'Balance' is the target variable\n",
        "\n",
        "# Split the data into training and testing sets (80% training, 20% testing)\n",
        "X_train, X_test, y_train, y_test = train_test_split(X, y, test_size=0.24, random_state=9)\n",
        "\n",
        "# Standardize the features\n",
        "scaler = StandardScaler()\n",
        "X_train_scaled = scaler.fit_transform(X_train)\n",
        "X_test_scaled = scaler.transform(X_test)\n",
        "\n",
        "# Build the neural network model\n",
        "model = Sequential()\n",
        "model.add(Dense(64, input_dim=X_train_scaled.shape[1], activation='relu'))\n",
        "model.add(Dense(32, activation='relu'))\n",
        "model.add(Dense(1))  # No activation for the output layer for regression\n",
        "\n",
        "# Compile the model\n",
        "model.compile(optimizer=Adam(learning_rate=0.01), loss='mean_squared_error')\n",
        "\n",
        "# Train the model\n",
        "model.fit(X_train_scaled, y_train, epochs=50, batch_size=16, verbose=0)\n",
        "\n",
        "# Evaluate the model on the test set\n",
        "mse = model.evaluate(X_test_scaled, y_test)\n",
        "print(f'Mean Squared Error: {mse}')\n",
        "\n",
        "# Make predictions on the test set\n",
        "y_pred = model.predict(X_test_scaled)\n",
        "\n",
        "# Display predictions\n",
        "predictions_df = pd.DataFrame({'Current Balance': y_test, 'Predicted Balanced': y_pred.flatten()})\n",
        "print(predictions_df)"
      ]
    },
    {
      "cell_type": "code",
      "execution_count": 45,
      "id": "b8abfd17",
      "metadata": {
        "id": "b8abfd17"
      },
      "outputs": [],
      "source": []
    },
    {
      "cell_type": "code",
      "execution_count": null,
      "id": "663fbe9c",
      "metadata": {
        "id": "663fbe9c"
      },
      "outputs": [],
      "source": []
    },
    {
      "cell_type": "code",
      "execution_count": null,
      "id": "5bf6d3fb",
      "metadata": {
        "id": "5bf6d3fb"
      },
      "outputs": [],
      "source": []
    },
    {
      "cell_type": "code",
      "execution_count": null,
      "id": "cab586e2",
      "metadata": {
        "id": "cab586e2",
        "colab": {
          "base_uri": "https://localhost:8080/"
        },
        "outputId": "3f07f3dc-88c6-4aac-95e3-6d323c0fda7c"
      },
      "outputs": [
        {
          "output_type": "stream",
          "name": "stdout",
          "text": [
            "GREEN\n"
          ]
        }
      ],
      "source": []
    },
    {
      "cell_type": "code",
      "execution_count": null,
      "id": "7bb24457",
      "metadata": {
        "id": "7bb24457",
        "colab": {
          "base_uri": "https://localhost:8080/"
        },
        "outputId": "cc63623c-30c9-409d-c262-439eea9b65a4"
      },
      "outputs": [
        {
          "output_type": "stream",
          "name": "stdout",
          "text": [
            "RED\n"
          ]
        }
      ],
      "source": []
    },
    {
      "cell_type": "code",
      "execution_count": null,
      "id": "16449ea7",
      "metadata": {
        "id": "16449ea7"
      },
      "outputs": [],
      "source": []
    },
    {
      "cell_type": "code",
      "execution_count": null,
      "id": "9f07307d",
      "metadata": {
        "id": "9f07307d"
      },
      "outputs": [],
      "source": []
    },
    {
      "cell_type": "code",
      "source": [],
      "metadata": {
        "id": "c0mInPiT-smG"
      },
      "id": "c0mInPiT-smG",
      "execution_count": null,
      "outputs": []
    },
    {
      "cell_type": "code",
      "source": [],
      "metadata": {
        "id": "5f8l3iz3_MAo"
      },
      "id": "5f8l3iz3_MAo",
      "execution_count": null,
      "outputs": []
    },
    {
      "cell_type": "code",
      "source": [],
      "metadata": {
        "id": "4NPtUCzH_eFi"
      },
      "id": "4NPtUCzH_eFi",
      "execution_count": null,
      "outputs": []
    },
    {
      "cell_type": "code",
      "source": [],
      "metadata": {
        "id": "x-0eaNFiAsL5"
      },
      "id": "x-0eaNFiAsL5",
      "execution_count": null,
      "outputs": []
    }
  ],
  "metadata": {
    "kernelspec": {
      "display_name": "Python 3 (ipykernel)",
      "language": "python",
      "name": "python3"
    },
    "language_info": {
      "codemirror_mode": {
        "name": "ipython",
        "version": 3
      },
      "file_extension": ".py",
      "mimetype": "text/x-python",
      "name": "python",
      "nbconvert_exporter": "python",
      "pygments_lexer": "ipython3",
      "version": "3.9.12"
    },
    "colab": {
      "provenance": [],
      "include_colab_link": true
    }
  },
  "nbformat": 4,
  "nbformat_minor": 5
}